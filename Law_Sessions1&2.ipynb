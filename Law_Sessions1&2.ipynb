{
  "nbformat": 4,
  "nbformat_minor": 0,
  "metadata": {
    "colab": {
      "name": "Law Sessions1&2.ipynb",
      "provenance": [],
      "collapsed_sections": [],
      "toc_visible": true,
      "authorship_tag": "ABX9TyM9tWNOXB2jW1D2VODOvnIG",
      "include_colab_link": true
    },
    "kernelspec": {
      "name": "python3",
      "display_name": "Python 3"
    }
  },
  "cells": [
    {
      "cell_type": "markdown",
      "metadata": {
        "id": "view-in-github",
        "colab_type": "text"
      },
      "source": [
        "<a href=\"https://colab.research.google.com/github/itb-ie/MasterLaw-Session1-2/blob/master/Law_Sessions1%262.ipynb\" target=\"_parent\"><img src=\"https://colab.research.google.com/assets/colab-badge.svg\" alt=\"Open In Colab\"/></a>"
      ]
    },
    {
      "cell_type": "markdown",
      "metadata": {
        "id": "D_jVFxO1k1Q4",
        "colab_type": "text"
      },
      "source": [
        "<img src='https://raw.githubusercontent.com/itb-ie/MasterLaw-Session1-2/master/Title.png'>\n",
        "\n",
        "<img src='https://datawider.com/wp-content/uploads/2019/11/How-to-Learn-Python.jpg' width=500px />\n",
        "\n",
        "<img src='https://lh3.googleusercontent.com/proxy/X3Ps471b-1oa6YL442CbAtG1apWB_EFcM6mh43AV3e7V4e964JKTzvTZTah8e1tr-rqjgeueh70gK73PAIyewXRTSlZuwCMt7f_oDDTSL4La6Jec3hAnGkRTQRcu' width=330px />\n",
        "\n",
        "# <center>Sessions 1&2 </center>\n",
        "\n",
        "## Welcome back!<br>\n",
        "\n",
        "Here are the things we will do in these sessions:\n",
        "\n",
        "1.   Introduction to Google Colab\n",
        "2.   Regular Expressions + Examples\n",
        "3.   Graphical User Interface\n",
        "4.   Create Applications with Graphical User Interfaces\n",
        "5.   Bundle the Application into an Executable and Run without Python\n",
        "\n",
        "## Evaluation Method\n",
        "\n",
        "| Criteria | Score |\n",
        "---|---\n",
        "| Class Participation | 30% |\n",
        "| Forums | 40% |\n",
        "| Final Exam | 30 % |\n",
        "\n",
        "<br><br>\n",
        "\n",
        "\n",
        "\n",
        "\n",
        "\n",
        "\n",
        "\n"
      ]
    },
    {
      "cell_type": "markdown",
      "metadata": {
        "id": "UC7wLI5pLrVu",
        "colab_type": "text"
      },
      "source": [
        "# <center>Google Colab</center>\n",
        "\n",
        "<p><img alt=\"Colaboratory logo\" height=\"45px\" src=\"/img/colab_favicon.ico\" align=\"left\" hspace=\"10px\" vspace=\"0px\"></p>\n",
        "\n",
        "<h1>What is Colaboratory?</h1>\n",
        "\n",
        "Colaboratory, or \"Colab\" for short, allows you to write and execute Python in your browser, with \n",
        "- Zero configuration required\n",
        "- Free access to GPUs\n",
        "- Easy sharing\n",
        "\n",
        "Whether you're a **student**, a **data scientist** or an **AI researcher**, Colab can make your work easier. Watch [Introduction to Colab](https://www.youtube.com/watch?v=inN8seMm7UI) to learn more, or just get started below!\n",
        "(Google's presentation of their platform)\n",
        "\n",
        "This is a google colab page. As you can see it can be formated quite nicely. The most important part is that you can introduce coding inside this page (python for now). Here is a block of python code:\n"
      ]
    },
    {
      "cell_type": "code",
      "metadata": {
        "id": "saNP0Ak6kwB5",
        "colab_type": "code",
        "colab": {
          "base_uri": "https://localhost:8080/",
          "height": 34
        },
        "outputId": "0544a07d-3e07-4b4e-beb5-0b597c9130ef"
      },
      "source": [
        "# I am now writing python code:\n",
        "a = 5\n",
        "b = 6\n",
        "print(\"The result is\", a+b)\n",
        "# to run this code you just need to press the play button"
      ],
      "execution_count": 1,
      "outputs": [
        {
          "output_type": "stream",
          "text": [
            "The result is 11\n"
          ],
          "name": "stdout"
        }
      ]
    },
    {
      "cell_type": "markdown",
      "metadata": {
        "id": "BkaXGRSfMLDO",
        "colab_type": "text"
      },
      "source": [
        "# Cells\n",
        "A document in Colab is called a notebook. The name and original purpose was to design a tool that replaces the \"notebook\" in which an engineer or scientist takes notes. But it has become a very useful tool for online teaching of programming. <br>\n",
        "The notebook is a list of cells. Cells contain either explanatory text or executable code and its output. Click a cell to select it.\n"
      ]
    },
    {
      "cell_type": "markdown",
      "metadata": {
        "id": "n99gtbCvs98R",
        "colab_type": "text"
      },
      "source": [
        "# Text Cells\n",
        "\n",
        "This is a text cell. As you can see it contains all sorts of text, like this one. \n",
        "Formatting the text is based on the Markdown language (same that we have used in github to create the readme files).\n",
        "You can have *italic* **bold** ~~strikethrough~~ or any _**~~combination~~**_\n",
        "<br>\n",
        "___\n",
        "\n",
        "You can create lists:\n",
        "- apple\n",
        "- orange\n",
        "- some other generic fruit\n",
        "\n",
        "Numbered list:\n",
        "1. Item1\n",
        "2. Item2\n",
        "3. Item3\n",
        " \n",
        "Or tasks list:\n",
        "- [x] Enroll in IE\n",
        "- [ ] Learn Python from Bogdan\n",
        "- [ ] Get rich\n",
        "\n",
        "You can add links:\n",
        "[Our (*actually my) github page](https://github.com/itb-ie)\n",
        "<br><br><br>\n",
        "And you can add images: <br>\n",
        "![alt text](https://memegenerator.net/img/instances/68550956/i-should-learn-python-functional-programming.jpg)\n",
        "\n",
        "Or we can create a table:<br>\n",
        "\n",
        "|*Hour* | Monday | Tuesday | Wednesday |Saturday |\n",
        "|-------|--------|---------|-----------|---------|\n",
        "|9-13 | Work   | Work    | Work      | Chill   |\n",
        "|13-14| Lunch   | Lunch    | Lunch      | Brunch   |\n",
        "|14-19| Work   | Work    | Work      | Go outside   |\n",
        "|19-23|Relax\\*  |Relax\\* |Relax\\* |Relax\\* |Relax* |\n",
        "|23-07|Sleep|Sleep|Sleep|**Party\\***|\n",
        "<sub> \\*not applicable if you have kids </sub>\n",
        "\n",
        "\n",
        "\n",
        "\n",
        "### So as you can see, there is quite a lot of things that you can do with this text editor\n",
        "\n",
        "#Next the coding part:\n"
      ]
    },
    {
      "cell_type": "code",
      "metadata": {
        "id": "bBGrYK7Ekzjg",
        "colab_type": "code",
        "colab": {
          "base_uri": "https://localhost:8080/",
          "height": 51
        },
        "outputId": "5c71b44b-0599-4019-e9fa-f26f60998568"
      },
      "source": [
        "name = input(\"What is your name?\")\n",
        "print(\"Nice to meet you\", name)\n"
      ],
      "execution_count": 2,
      "outputs": [
        {
          "output_type": "stream",
          "text": [
            "What is your name?John\n",
            "Nice to meet you John\n"
          ],
          "name": "stdout"
        }
      ]
    },
    {
      "cell_type": "code",
      "metadata": {
        "id": "b8c9i7NrzhuI",
        "colab_type": "code",
        "colab": {
          "base_uri": "https://localhost:8080/",
          "height": 34
        },
        "outputId": "0b0ec7c1-ad63-4e2b-8c79-eed6f64b90d0"
      },
      "source": [
        "# this is another coding part, we get to keep what was in the previous cell\n",
        "print(\"the name you have entered previuosly was\", name)\n"
      ],
      "execution_count": 3,
      "outputs": [
        {
          "output_type": "stream",
          "text": [
            "the name you have entered previuosly was John\n"
          ],
          "name": "stdout"
        }
      ]
    }
  ]
}