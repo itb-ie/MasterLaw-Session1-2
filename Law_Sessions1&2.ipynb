{
  "nbformat": 4,
  "nbformat_minor": 0,
  "metadata": {
    "colab": {
      "name": "Law Sessions1&2.ipynb",
      "provenance": [],
      "collapsed_sections": [],
      "authorship_tag": "ABX9TyMc/+2i1NAX/SjA92B6GwiK",
      "include_colab_link": true
    },
    "kernelspec": {
      "name": "python3",
      "display_name": "Python 3"
    }
  },
  "cells": [
    {
      "cell_type": "markdown",
      "metadata": {
        "id": "view-in-github",
        "colab_type": "text"
      },
      "source": [
        "<a href=\"https://colab.research.google.com/github/itb-ie/MasterLaw-Session1-2/blob/master/Law_Sessions1%262.ipynb\" target=\"_parent\"><img src=\"https://colab.research.google.com/assets/colab-badge.svg\" alt=\"Open In Colab\"/></a>"
      ]
    },
    {
      "cell_type": "markdown",
      "metadata": {
        "id": "D_jVFxO1k1Q4",
        "colab_type": "text"
      },
      "source": [
        "<img src='https://raw.githubusercontent.com/itb-ie/MasterLaw-Session1-2/master/Title.png'>\n",
        "\n",
        "<img src='https://datawider.com/wp-content/uploads/2019/11/How-to-Learn-Python.jpg' width=500px />\n",
        "\n",
        "<img src='https://lh3.googleusercontent.com/proxy/X3Ps471b-1oa6YL442CbAtG1apWB_EFcM6mh43AV3e7V4e964JKTzvTZTah8e1tr-rqjgeueh70gK73PAIyewXRTSlZuwCMt7f_oDDTSL4La6Jec3hAnGkRTQRcu' width=330px />\n",
        "\n",
        "# <center>Sessions 1&2 </center>\n",
        "\n",
        "## Welcome back!<br>\n",
        "\n",
        "Here are the things we will do in these sessions:\n",
        "\n",
        "1.   Introduction to Google Colab\n",
        "2.   Regular Expressions + Examples\n",
        "3.   Graphical User Interface\n",
        "4.   Create Applications with Graphical User Interfaces\n",
        "5.   Bundle the Application into an Executable and Run without Python\n",
        "\n",
        "## Evaluation Method\n",
        "\n",
        "| Criteria | Score |\n",
        "---|---\n",
        "| Class Participation | 30% |\n",
        "| Forums | 40% |\n",
        "| Final Exam | 30 % |\n",
        "\n",
        "\n",
        "\n",
        "\n",
        "\n",
        "\n",
        "\n",
        "\n",
        "\n",
        "\n",
        "\n",
        "\n",
        "\n",
        "\n",
        "\n"
      ]
    },
    {
      "cell_type": "code",
      "metadata": {
        "id": "saNP0Ak6kwB5",
        "colab_type": "code",
        "colab": {}
      },
      "source": [
        ""
      ],
      "execution_count": 0,
      "outputs": []
    },
    {
      "cell_type": "code",
      "metadata": {
        "id": "bBGrYK7Ekzjg",
        "colab_type": "code",
        "colab": {}
      },
      "source": [
        ""
      ],
      "execution_count": 0,
      "outputs": []
    }
  ]
}