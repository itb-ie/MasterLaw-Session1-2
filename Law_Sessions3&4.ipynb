{
  "nbformat": 4,
  "nbformat_minor": 0,
  "metadata": {
    "colab": {
      "name": "Law Sessions3&4.ipynb",
      "provenance": [],
      "collapsed_sections": [],
      "toc_visible": true,
      "authorship_tag": "ABX9TyMQxYfHI53kOZ84/mrH68xy",
      "include_colab_link": true
    },
    "kernelspec": {
      "name": "python3",
      "display_name": "Python 3"
    }
  },
  "cells": [
    {
      "cell_type": "markdown",
      "metadata": {
        "id": "view-in-github",
        "colab_type": "text"
      },
      "source": [
        "<a href=\"https://colab.research.google.com/github/itb-ie/MasterLaw-Session1-2/blob/master/Law_Sessions3%264.ipynb\" target=\"_parent\"><img src=\"https://colab.research.google.com/assets/colab-badge.svg\" alt=\"Open In Colab\"/></a>"
      ]
    },
    {
      "cell_type": "markdown",
      "metadata": {
        "id": "Yi0_triq2STX",
        "colab_type": "text"
      },
      "source": [
        "<img src='https://raw.githubusercontent.com/itb-ie/MasterLaw-Session1-2/master/Title.png'>\n",
        "\n",
        "<img src='https://datawider.com/wp-content/uploads/2019/11/How-to-Learn-Python.jpg' width=500px />\n",
        "\n",
        "<img src='https://pprablog.files.wordpress.com/2015/03/gravel.jpg' width=330px />\n",
        "\n",
        "<br><br>\n",
        "# <center>Sessions 3&4 </center>\n",
        "\n"
      ]
    },
    {
      "cell_type": "markdown",
      "metadata": {
        "id": "CkUB2AaWF14v",
        "colab_type": "text"
      },
      "source": [
        "# Recap Session 1&2\n",
        "<img src='https://github.com/itb-ie/MasterLaw-Session3-4/raw/master/Picture3.png' width=600px/>"
      ]
    },
    {
      "cell_type": "markdown",
      "metadata": {
        "id": "FZASPOK-F7jb",
        "colab_type": "text"
      },
      "source": [
        "## The email exercise"
      ]
    },
    {
      "cell_type": "markdown",
      "metadata": {
        "id": "9YkgOr7YF9XX",
        "colab_type": "text"
      },
      "source": [
        "## Homework Questions"
      ]
    },
    {
      "cell_type": "markdown",
      "metadata": {
        "id": "nKxaa0BR7QkB",
        "colab_type": "text"
      },
      "source": [
        "# GUI\n",
        "\n",
        "What is a GUI?\n",
        "GUI stands for Graphical User Interface. <br>\n",
        "To define a GUI we need to first define a user interface:<br>\n",
        "\n",
        "\n",
        "\n"
      ]
    },
    {
      "cell_type": "markdown",
      "metadata": {
        "id": "BGlv7DRo-Gq-",
        "colab_type": "text"
      },
      "source": [
        "## The User Interface\n",
        "\n",
        "<img src='https://github.com/itb-ie/MasterLaw-Session3-4/raw/master/20150624-minority-report-tom-cruise.0.1540027739.0.jpg' width=1000px/>\n",
        "\n",
        "**The user interface** is the space where interactions between humans and machines occur. There are 2 goals in this interaction: the human needs to send commands to the machine (aka provide input) and the machine needs to provide feedback that helps with the decision making process of the human operator. <br>\n",
        "There are various types of user interfaces \n",
        "### What are the characteristics of a good User Interface?\n",
        "\n",
        "*   Minimal Input <br>\n",
        "    Only the information needed to perfom the task should be provided by the user\n",
        "*   Mnimal Output <br>\n",
        "    The system should provide only the ionformation that is relevant to the user \n",
        "*   User Friendly <br>  \n",
        "    Operating the interface should be intuitive and enjoyable (or at lest minimize the annoyance)\n",
        "\n",
        "### Senses Involved\n",
        "User Interfaces can also be clasified based on the number of senses involved. The most common ones are:\n",
        "*    Graphical/Command User Interface - This is an interface in which the tactise sense if being used to enter the information via  Keyboard/Mouse and the Monitor is used to provide feedback via Text or Graphic\n",
        "*    Multimedia User Interface - At least another sense is added in the mix, most of the time that is the hearing. This is achieved by providing sound feedback along the visual feedback\n",
        "\n",
        "### How it Interacts with the World\n",
        "Based on the way the user interface interacts with the world we can classify the interfaces as:\n",
        "*    Standard - the common keyboard/mouse/monitor\n",
        "*    Virtual - the interface blocks out the real world and presents its own reality to the user\n",
        "*    Augmented - the interface does not block out the real world but instead it add its own elements on top of the real world, \"augmenting\" it\n",
        "\n",
        "### History Trivia\n",
        "\n",
        "\n"
      ]
    },
    {
      "cell_type": "markdown",
      "metadata": {
        "id": "Lknwg_JyNfm3",
        "colab_type": "text"
      },
      "source": [
        "## Graphical User Interface\n",
        "\"The graphical user interface is a form of user interface that allows users to interact with electronic devices through graphical icons, instead of text-based user interfaces, typed command labels or text navigation. GUIs were introduced in reaction to the perceived steep learning curve of command-line interfaces (CLIs), which require commands to be typed on a computer keyboard.\" (Wikipedia) <br>\n",
        "\n",
        "For a long time this is considered the standard way in which we interact with computers, mobile phones and all the other mainstream gadgets. The most common and well know examples of GUIs are the Operating Systems for the Windows and MAC PCs as well as the Android and iOS mobile operating systems. \n",
        "\n",
        "<img src='https://github.com/itb-ie/MasterLaw-Session3-4/raw/master/Apple-ios-13-home-screen-iphone-xs-06032019_big.jpg.large.jpg' width=300px/>\n",
        "<img src='https://github.com/itb-ie/MasterLaw-Session3-4/raw/master/windows-10-pro-keysworlds-img.jpg' width=700px/>\n",
        "\n",
        "<br><br>\n",
        "### Any application today is expected to have a graphical user interface.<br>\n",
        "\n"
      ]
    },
    {
      "cell_type": "markdown",
      "metadata": {
        "id": "i7pgr8K3YFF2",
        "colab_type": "text"
      },
      "source": [
        "## GUI in Pyhon\n",
        "\n",
        "Python offers a variety of frameworks to implement GUIs. \n",
        "Some frameworks are more powerful than others, while some are easier to learn, or easier to use.\n",
        "The most common frameworks are: **TKinter, Kivy** and **PyQt** <br>\n",
        "We will focus on **TKinter** since it is the easiest to learn and is the de-facto standard GUI.\n"
      ]
    },
    {
      "cell_type": "markdown",
      "metadata": {
        "id": "CFWNe4ddW9lO",
        "colab_type": "text"
      },
      "source": [
        "## TkInter\n",
        "The tkinter package (“Tk interface”) is the standard Python interface to the Tk GUI toolkit. Both Tk and tkinter are available on most Unix platforms, as well as on Windows systems. What about MacOS? <br>\n",
        "An in depth explanation for Tkinter can be found here:<br>\n",
        "https://docs.python.org/3/library/tk.html\n",
        "\n",
        "### What is with the name?\n",
        "The name is not that strange, it is short for TK Interface.<br>\n",
        "So what is TK? TL stands for Tool Kit and it was originally an extension of TCL language forming the pair known as TCL/TK which allowed the creation of GUIs. This functionality was imported into the early versions of python via the library called TK Interface or tkinter. \n",
        "While it is not the preattiest or most complete in terms of features, it is fast, realiable, easy to learn and most importantly readily available. These are the reasons why I choose to present it. \n",
        "\n",
        "\n"
      ]
    },
    {
      "cell_type": "markdown",
      "metadata": {
        "id": "UTUXBSFxxOif",
        "colab_type": "text"
      },
      "source": [
        "## Bad News\n",
        "<img src='https://github.com/itb-ie/MasterLaw-Session3-4/raw/master/how-to-deliver-bad-news.jpg' width=600px/>\n",
        "\n",
        "A GUI will open a **new** window in which the program will work. This is not compatible with google colab, which works on a google server and presents the results in our webpage. So we need to go back to pycharm to test out the GUI part. <br>\n",
        "\n",
        "The good news is that I can still present the examples here and a simple copy paste into pycharm will be enough to run the code."
      ]
    },
    {
      "cell_type": "markdown",
      "metadata": {
        "id": "BiD7l-ra1EpJ",
        "colab_type": "text"
      },
      "source": [
        "## Graphical Hello World\n",
        "\n",
        "<img src='https://github.com/itb-ie/MasterLaw-Session3-4/raw/master/Picture1.png' width=400px/>\n",
        "\n"
      ]
    },
    {
      "cell_type": "code",
      "metadata": {
        "id": "eE8dNObG1zxz",
        "colab_type": "code",
        "colab": {}
      },
      "source": [
        "from tkinter import *\n",
        "\n",
        "window = Tk()\n",
        "window.title(\"Hello world\")\n",
        "\n",
        "lb = Label(master=window, text=\"Hello World\", font=(\"Arial\", 20), fg=\"red\")\n",
        "lb.grid(row=0, pady=20)\n",
        "\n",
        "bt = Button(master=window, text=\"Exit\", font=(\"Helvetica\", 15), command=sys.exit)\n",
        "bt.grid(row=1)\n",
        "\n",
        "window.mainloop()\n"
      ],
      "execution_count": 0,
      "outputs": []
    },
    {
      "cell_type": "markdown",
      "metadata": {
        "id": "TFcmW0514lzb",
        "colab_type": "text"
      },
      "source": [
        "### Important: the above code needs to be copy pasted into pycharm. It will not run inside colab!"
      ]
    },
    {
      "cell_type": "markdown",
      "metadata": {
        "id": "7aksaEbxAmGe",
        "colab_type": "text"
      },
      "source": [
        "![alt text](https://miro.medium.com/max/1400/1*DFaRILoVj4jv0AAVb6EmDw.jpeg)"
      ]
    },
    {
      "cell_type": "markdown",
      "metadata": {
        "id": "8ILhwRa55Hli",
        "colab_type": "text"
      },
      "source": [
        "## Explanation\n",
        "- This is a simple “Hello World” GUI. It has a text (Label) and a button to exit\n",
        "- Notice the first import line. What are some other ways to import?\n",
        "- Then we create the window and set its title. \n",
        "- The last line tell our program to keep looping, otherwise it will finish quickly \n",
        "- In the middle we have what we call widgets: different GUI elements. In our case there is a Label and a Button\n",
        "- Each widget has a line that defines its place in the page\n"
      ]
    },
    {
      "cell_type": "markdown",
      "metadata": {
        "id": "eeQNozH8-TjZ",
        "colab_type": "text"
      },
      "source": [
        "## Tkinter Widgets\n",
        "Tkinter provides various controls, such as buttons, labels and text boxes used in a GUI application <br>\n",
        "https://www.tutorialspoint.com/python/python_gui_programming.htm <br>\n",
        "The most common are:\n",
        "- Button – a clickable button\n",
        "- Canvas – used to draw shapes and insert images\n",
        "- Entry – single line text field for getting input from the user\n",
        "- Label – single line text for displaying information (not editable)\n",
        "- Frame – a container to group widgets together\n",
        "- Menu – Adds a menu to the application\n",
        "All the widgets take as the first parameter the parent widget (called master)\n"
      ]
    },
    {
      "cell_type": "markdown",
      "metadata": {
        "id": "yuRcXiqyDdeC",
        "colab_type": "text"
      },
      "source": [
        "## Layout Methods\n",
        "<img src='https://github.com/itb-ie/MasterLaw-Session3-4/raw/master/Picture2.png' width=600px/>\n",
        "\n",
        "Tkinter needs to know where to place the widgets inside the window. For this there are 3 layout options:\n",
        "- Pack\n",
        "- Grid\n",
        "- Place\n",
        "\n",
        "They are never to be mixed. Choose one and stick to it <br>\n",
        "**Without calling a layout method, the widget will not be displayed** <br>\n",
        "The grid layout will divide your window into a grid that you specify using the row number and column number <br>\n",
        "For example the “One” Check button can be placed by calling the method: grid(row=2, column=0) <br>\n",
        "The entry that spans two columns can be placed by calling the method: grid(row=1, column=3, columnspan=2) <br>\n",
        "\n",
        "\n"
      ]
    },
    {
      "cell_type": "markdown",
      "metadata": {
        "id": "icpAPJT8HOdw",
        "colab_type": "text"
      },
      "source": [
        "## GUI Step by Step"
      ]
    },
    {
      "cell_type": "code",
      "metadata": {
        "id": "iHYUkCo5HSL_",
        "colab_type": "code",
        "colab": {}
      },
      "source": [
        "# first example\n",
        "from tkinter import *\n",
        "\n",
        "# create a window\n",
        "window = Tk()\n",
        "\n",
        "# the main loop\n",
        "window.mainloop()\n"
      ],
      "execution_count": 0,
      "outputs": []
    },
    {
      "cell_type": "code",
      "metadata": {
        "id": "XFZtTYHBHWHX",
        "colab_type": "code",
        "colab": {}
      },
      "source": [
        "#second example\n",
        "from tkinter import *\n",
        "\n",
        "# create a window\n",
        "window = Tk()\n",
        "\n",
        "#add a title\n",
        "window.title(\"Hello class - this is a window\")\n",
        "# resize the window\n",
        "window.geometry(\"800x600\")\n",
        "\n",
        "# the main loop\n",
        "window.mainloop()"
      ],
      "execution_count": 0,
      "outputs": []
    },
    {
      "cell_type": "code",
      "metadata": {
        "id": "BVkNVerQHaln",
        "colab_type": "code",
        "colab": {}
      },
      "source": [
        "# third example\n",
        "from tkinter import *\n",
        "\n",
        "# create a window\n",
        "window = Tk()\n",
        "\n",
        "#add a title\n",
        "window.title(\"This is a Title\")\n",
        "# resize the window\n",
        "window.geometry(\"800x600\")\n",
        "\n",
        "# add elements\n",
        "\n",
        "# a button\n",
        "bt = Button(master=window, text=\"Hello Button\")\n",
        "bt.grid(row=0, column=0, padx=200, pady=100, columnspan=2)\n",
        "\n",
        "# a label\n",
        "lb = Label(master=window, text=\"Hello Label 2\")\n",
        "lb.grid(row=1, column=0)\n",
        "\n",
        "# a button\n",
        "bt2 = Button(master=window, text=\"Another Button\")\n",
        "bt2.grid(row=2, column=0)\n",
        "\n",
        "# a label\n",
        "lb = Label(master=window, text=\"Hello Label - Another column\")\n",
        "lb.grid(row=2, column=1)\n",
        "\n",
        "\n",
        "# the main loop\n",
        "window.mainloop()"
      ],
      "execution_count": 0,
      "outputs": []
    },
    {
      "cell_type": "code",
      "metadata": {
        "id": "nRlI5i8bHdAf",
        "colab_type": "code",
        "colab": {}
      },
      "source": [
        "#forth example\n",
        "from tkinter import *\n",
        "\n",
        "# create a window, make it prettier\n",
        "window = Tk()\n",
        "\n",
        "#add a title\n",
        "window.title(\"This is a Title\")\n",
        "# resize the window\n",
        "window.geometry(\"400x300\")\n",
        "\n",
        "# add elements\n",
        "\n",
        "# a button\n",
        "bt = Button(master=window, text=\"Hello Button\", font=(\"Arial\", 30, \"bold\"))\n",
        "bt.grid(row=0, column=0, padx=30, pady=10)\n",
        "\n",
        "# a label\n",
        "lb = Label(master=window, text=\"Hello Label 2\", font=(\"Helvetica\", 25), fg=\"blue\")\n",
        "lb.grid(row=1, column=0, padx=30, pady=20)\n",
        "\n",
        "# a button\n",
        "bt2 = Button(master=window, text=\"Another Button\", font=(\"Arial\", 20, \"italic\"), fg=\"green\")\n",
        "bt2.grid(row=2, column=0, padx=30, pady=20)\n",
        "\n",
        "# the main loop\n",
        "window.mainloop()"
      ],
      "execution_count": 0,
      "outputs": []
    },
    {
      "cell_type": "code",
      "metadata": {
        "id": "1RUZv_RYHoMv",
        "colab_type": "code",
        "colab": {}
      },
      "source": [
        "#fifth example\n",
        "from tkinter import *\n",
        "\n",
        "\n",
        "def get_text():\n",
        "    entered_text = et_text.get()\n",
        "    lb2.config(text=entered_text)\n",
        "\n",
        "\n",
        "# create a window, make it prettier, add functionality\n",
        "window = Tk()\n",
        "\n",
        "#add a title\n",
        "window.title(\"This is a Title\")\n",
        "\n",
        "# add elements\n",
        "\n",
        "# a label\n",
        "lb = Label(master=window, text=\"Enter a text\", font=(\"Helvetica\", 25), fg=\"blue\")\n",
        "lb.grid(row=0, column=0, padx=30, pady=20)\n",
        "\n",
        "# an input field\n",
        "et_text = StringVar()\n",
        "et = Entry(master=window, width=30, textvariable=et_text, font=(\"Helvetica\", 25))\n",
        "et.grid(row=0, column=1, padx=30, pady=20)\n",
        "\n",
        "# anoter label to print into\n",
        "lb2 = Label(master=window, text=\"\", font=(\"Helvetica\", 25), fg=\"blue\")\n",
        "lb2.grid(row=1, column=0, columnspan=3)\n",
        "\n",
        "# a button\n",
        "bt = Button(master=window, text=\"Get Text\", font=(\"Arial\", 20, \"bold\"), command=get_text)\n",
        "bt.grid(row=0, column=2, padx=50, pady=10)\n",
        "\n",
        "# a button\n",
        "bt2 = Button(master=window, text=\"EXIT\", font=(\"Arial\", 30, \"bold\"), command=sys.exit)\n",
        "bt2.grid(row=2, column=0, padx=30, pady=50, columnspan=3)\n",
        "\n",
        "# the main loop\n",
        "window.mainloop()\n"
      ],
      "execution_count": 0,
      "outputs": []
    },
    {
      "cell_type": "markdown",
      "metadata": {
        "id": "9y3OWYcO96OA",
        "colab_type": "text"
      },
      "source": [
        "## TkInter TTk\n",
        "This is a somewhat new support for better looking graphics. It stands for Tkinter Themed Widgets. Like the name suggests, it allows to change the look an feel via the use of themes and styles. This separates the look from the functionality by adding the concept of styles. <br>\n",
        "\n",
        "You can define a style, customize it and then apply it to different widgets like buttons, labels and so on. <br>\n",
        "Besides this style functionality, there is also support for themes which allow to give more personality to the overall look and feel.<br> \n",
        "We can play with different themes in the example below:\n",
        "\n"
      ]
    },
    {
      "cell_type": "code",
      "metadata": {
        "id": "_gzZVEFpAU9g",
        "colab_type": "code",
        "colab": {}
      },
      "source": [
        "import sys\n",
        "import tkinter as tk\n",
        "from tkinter.ttk import *\n",
        "\n",
        "\n",
        "from ttkthemes import ThemedTk\n",
        "\n",
        "\n",
        "def get_text():\n",
        "    entered_text = et_text.get()\n",
        "    lb2.config(text=entered_text)\n",
        "\n",
        "\n",
        "# create a window, make it prettier, add functionality\n",
        "window = ThemedTk(screenName=\"This is a title\", theme=\"alt\")\n",
        "\n",
        "\n",
        "# with ttk we need to configure styles:\n",
        "style = Style()\n",
        "style.configure(\"TButton\", font=(\"Helvetica\", 15, 'bold'), width=25)\n",
        "style.configure(\"TLabel\", font=(\"Arial\", 25), anchor=tk.W, width=30, foreground=\"darkblue\")\n",
        "style.configure(\"TEntry\", font=(\"Arial\", 15), anchor=tk.W)\n",
        "\n",
        "# a label\n",
        "lb = Label(master=window, text=\"Enter a text\")\n",
        "lb.grid(row=0, column=0, padx=30, pady=20)\n",
        "\n",
        "# an input field\n",
        "et_text = tk.StringVar()\n",
        "et = Entry(master=window, width=30, textvariable=et_text, font=(\"Helvetica\", 25))\n",
        "et.grid(row=0, column=1, padx=30, pady=20)\n",
        "\n",
        "# anoter label to print into\n",
        "lb2 = Label(master=window, text=\"\")\n",
        "lb2.grid(row=1, column=0, columnspan=3)\n",
        "\n",
        "# a button\n",
        "bt = Button(master=window, text=\"Get Text\", command=get_text)\n",
        "bt.grid(row=0, column=2, padx=50, pady=10)\n",
        "\n",
        "# a button\n",
        "bt2 = Button(master=window, text=\"EXIT\", command=sys.exit)\n",
        "bt2.grid(row=2, column=0, padx=30, pady=50, columnspan=3)\n",
        "\n",
        "# print the list of available themes\n",
        "print(style.theme_names())\n",
        "# the main loop\n",
        "window.mainloop()\n"
      ],
      "execution_count": 0,
      "outputs": []
    },
    {
      "cell_type": "markdown",
      "metadata": {
        "id": "JO1x6D-IAxZh",
        "colab_type": "text"
      },
      "source": [
        "## More complex example\n",
        "![calc](https://upload.wikimedia.org/wikipedia/commons/c/cf/Casio_calculator_JS-20WK_in_201901_002.jpg)\n",
        "\n",
        "Below is a calculator example that I did. It is quite complex, the idea is to show a more cohesive GUI."
      ]
    },
    {
      "cell_type": "code",
      "metadata": {
        "id": "IKW2oSirBMPt",
        "colab_type": "code",
        "colab": {}
      },
      "source": [
        "import tkinter as tk\n",
        "from functools import partial\n",
        "from tkinter.ttk import *\n",
        "from ttkthemes import ThemedTk\n",
        "\n",
        "\n",
        "class Calc(object):\n",
        "    def __init__(self, window):\n",
        "        self.window = window\n",
        "        self.window.title(\"My calc\")\n",
        "        self.window.geometry(\"400x500\")\n",
        "\n",
        "        # what is the expression we want to compute?\n",
        "        self.expression = \"\"\n",
        "        self.new_number = True\n",
        "\n",
        "        self.font_big = (\"Courier\", 30)\n",
        "        self.font_small = (\"Courier\", 10)\n",
        "\n",
        "        # with ttk we need to configure styles:\n",
        "        self.style = Style()\n",
        "        self.style.configure(\"TButton\", font=(\"Helvetica\", 25), width=1)\n",
        "        self.style.configure(\"TLabel\", font=(\"Arial\", 30), anchor=tk.E, width=10, foreground=\"darkblue\")\n",
        "        self.style.configure(\"TEntry\", font=(\"Arial\", 15), anchor=tk.W)\n",
        "        self.style.configure(\"small.TLabel\", font=(\"Arial\", 10), anchor=tk.E, width=30, foreground=\"darkblue\")\n",
        "\n",
        "        self.small_text_text = tk.StringVar()\n",
        "        self.small_text = Label(master=self.window, style=\"small.TLabel\", textvariable=self.small_text_text)\n",
        "\n",
        "        self.small_text_text.set(\"\")\n",
        "\n",
        "        self.big_text_text = tk.StringVar()\n",
        "        self.big_text = Label(master=self.window, textvariable=self.big_text_text)\n",
        "\n",
        "        self.big_text_text.set(\"0\")\n",
        "\n",
        "        # now add the buttons\n",
        "        self.numbers_buttons = []\n",
        "        for i in range(10):\n",
        "            self.numbers_buttons.append(Button(master=self.window, text=str(i), command=partial(self.number_press, str(i))))\n",
        "\n",
        "        # add the operations\n",
        "        self.oper = {\"+\": \"+\", \"-\": \"-\", \"x\": \"*\", \"/\": \"//\", \"=\": \"=\"}\n",
        "        self.oper_buttons = []\n",
        "        for i in self.oper:\n",
        "            self.oper_buttons.append(Button(master=self.window, text=i, command=partial(self.oper_press, self.oper[i])))\n",
        "\n",
        "\n",
        "        #layout\n",
        "        self.small_text.grid(row=0, column=0, columnspan=4, pady=(20,0), sticky=tk.E)\n",
        "        self.big_text.grid(row=1, column=0, columnspan=4, pady=(0,20), sticky=tk.E)\n",
        "        for i in range(10):\n",
        "            self.numbers_buttons[i].grid(column=i%3, row=i//3 + 2, padx=5)\n",
        "        for i, but in enumerate(self.oper_buttons):\n",
        "            but.grid(column=3, row=i+2)\n",
        "\n",
        "    def number_press(self, value=\"1\"):\n",
        "        if self.new_number:\n",
        "            self.new_number = False\n",
        "            self.big_text_text.set(value)\n",
        "            return\n",
        "\n",
        "        cur_value = int(self.big_text_text.get().replace(\",\", \"\")) * 10 + int(value)\n",
        "        str_value = self.put_commas(cur_value)\n",
        "        self.big_text_text.set(str_value)\n",
        "\n",
        "    def oper_press(self, oper):\n",
        "\n",
        "        self.expression = self.expression + self.big_text_text.get()\n",
        "        if oper == \"=\":\n",
        "            temp_expression = self.expression.replace(\",\", \"\")\n",
        "            try:\n",
        "                value = eval(temp_expression)\n",
        "                self.big_text_text.set(self.put_commas(value))\n",
        "            except ZeroDivisionError:\n",
        "                self.big_text_text.set(\"Zero div\")\n",
        "            self.small_text_text.set(self.expression + oper + self.big_text_text.get())\n",
        "            self.expression = \"\"\n",
        "        else:\n",
        "            self.expression = self.expression + oper\n",
        "            self.small_text_text.set(self.expression)\n",
        "        self.new_number = True\n",
        "\n",
        "    def put_commas(self, cur_value):\n",
        "        if cur_value < 0:\n",
        "            negative = True\n",
        "            cur_value = abs(cur_value)\n",
        "        else:\n",
        "            negative = False\n",
        "        str_value = \"\"\n",
        "        while cur_value:\n",
        "            temp = str(cur_value % 1000)\n",
        "            if cur_value >= 1000:\n",
        "                if len(temp) == 1:\n",
        "                    temp = \"00\" + temp\n",
        "                elif len(temp) == 2:\n",
        "                    temp = \"0\" + temp\n",
        "            str_value = temp + \",\" + str_value\n",
        "            cur_value = cur_value // 1000\n",
        "        str_value = str_value[:-1]\n",
        "        if negative:\n",
        "            str_value = \"-\" + str_value\n",
        "        return str_value\n",
        "\n",
        "\n",
        "window = ThemedTk(screenName=\"This is a title\", theme=\"radiance\")\n",
        "calc = Calc(window)\n",
        "window.mainloop()\n"
      ],
      "execution_count": 0,
      "outputs": []
    },
    {
      "cell_type": "markdown",
      "metadata": {
        "id": "4LWH6KlB997j",
        "colab_type": "text"
      },
      "source": [
        "#Q&A\n",
        "![Q&A](https://github.com/itb-ie/MasterLaw-Session1-2/raw/master/q%26a.png)"
      ]
    }
  ]
}